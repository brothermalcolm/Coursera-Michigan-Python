{
 "cells": [
  {
   "cell_type": "markdown",
   "metadata": {},
   "source": [
    "# Chapter 6 Exercises: Strings\n",
    "Click the 'Play' button on the menu bar or press Ctrl-Enter on your keyboard to cycle through the exercises."
   ]
  },
  {
   "cell_type": "code",
   "execution_count": 1,
   "metadata": {
    "collapsed": false
   },
   "outputs": [
    {
     "name": "stdout",
     "output_type": "stream",
     "text": [
      "a\n",
      "n\n",
      "a\n",
      "n\n",
      "a\n",
      "b\n"
     ]
    }
   ],
   "source": [
    "# Exercise 6.1 Write a while loop that starts at the last character in the string and \n",
    "# works its way backwards to the first character in the string, printing each letter on \n",
    "# a separate line, except backwards.\n",
    "fruit = 'banana'\n",
    "index = 1\n",
    "while index <= len(fruit):\n",
    "    letter = fruit[-index] \n",
    "    print(letter)\n",
    "    index = index + 1"
   ]
  },
  {
   "cell_type": "code",
   "execution_count": 2,
   "metadata": {
    "collapsed": false
   },
   "outputs": [
    {
     "data": {
      "text/plain": [
       "'banana'"
      ]
     },
     "execution_count": 2,
     "metadata": {},
     "output_type": "execute_result"
    }
   ],
   "source": [
    "# Exercise 6.2 Given that fruit is a string, what does fruit[:] mean?\n",
    "fruit[:]"
   ]
  },
  {
   "cell_type": "code",
   "execution_count": 4,
   "metadata": {
    "collapsed": false
   },
   "outputs": [
    {
     "name": "stdout",
     "output_type": "stream",
     "text": [
      "2\n"
     ]
    }
   ],
   "source": [
    "# Exercise 6.3 Encapsulate this code in a function named count, and generalize it \n",
    "# so that it accepts the string and the letter as arguments.\n",
    "def count(string, target):\n",
    "    word = 'banana' \n",
    "    count = 0\n",
    "    for letter in word:\n",
    "        if letter == target: \n",
    "            count = count + 1\n",
    "    print( count)\n",
    "count('banana', 'n')"
   ]
  },
  {
   "cell_type": "code",
   "execution_count": 5,
   "metadata": {
    "collapsed": false
   },
   "outputs": [
    {
     "data": {
      "text/plain": [
       "3"
      ]
     },
     "execution_count": 5,
     "metadata": {},
     "output_type": "execute_result"
    }
   ],
   "source": [
    "# Exercise 6.4 There is a string method called count that is similar to the function \n",
    "# in the previous exercise. Read the documentation of this method at https:// \n",
    "# docs.python.org/2/library/stdtypes.html#string-methods and write an \n",
    "# invocation that counts the number of times the letter a occurs in 'banana'.\n",
    "string = 'banana'\n",
    "string.count('a')"
   ]
  },
  {
   "cell_type": "code",
   "execution_count": 6,
   "metadata": {
    "collapsed": false
   },
   "outputs": [
    {
     "name": "stdout",
     "output_type": "stream",
     "text": [
      "0.8475 <class 'float'>\n"
     ]
    }
   ],
   "source": [
    "# Exercise 6.5 Take the following Python code that stores a string:‘\n",
    "#\n",
    "# str = 'X-DSPAM-Confidence: 0.8475'\n",
    "#\n",
    "# Use find and string slicing to extract the portion of the string after the colon \n",
    "# character and then use the float function to convert the extracted string into a \n",
    "# floating point number.\n",
    "str = 'X-DSPAM-Confidence: 0.8475'\n",
    "cpos = str.find(':')\n",
    "num = float(str[cpos+1:])\n",
    "print(num, type(num))"
   ]
  },
  {
   "cell_type": "code",
   "execution_count": 7,
   "metadata": {
    "collapsed": false
   },
   "outputs": [
    {
     "name": "stdout",
     "output_type": "stream",
     "text": [
      "From stephen.marquard@uct.ac.za Sat Jan 5 09:14:16 2008\n",
      "From stephen.marquard@uct.ac.za sat jan 5 09:14:16 2008\n",
      "from stephen.marquard@uct.ac.za sat jan 5 09:14:16 2008\n",
      "                      From stephen.marquard@uct.ac.za Sat Jan 5 09:14:16 2008                       \n",
      "6\n",
      "b'From stephen.marquard@uct.ac.za Sat Jan 5 09:14:16 2008'\n",
      "True\n",
      "From stephen.marquard@uct.ac.za Sat Jan 5 09:14:16 2008\n",
      "44\n",
      "44\n",
      "False\n",
      "False\n",
      "False\n",
      "False\n",
      "False\n",
      "False\n",
      "False\n",
      "True\n",
      "False\n",
      "False\n",
      "False\n",
      "hFrom stephen.marquard@uct.ac.za Sat Jan 5 09:14:16 2008eFrom stephen.marquard@uct.ac.za Sat Jan 5 09:14:16 2008lFrom stephen.marquard@uct.ac.za Sat Jan 5 09:14:16 2008lFrom stephen.marquard@uct.ac.za Sat Jan 5 09:14:16 2008o\n",
      "From stephen.marquard@uct.ac.za Sat Jan 5 09:14:16 2008                                             \n",
      "from stephen.marquard@uct.ac.za sat jan 5 09:14:16 2008\n",
      " stephen.marquard@uct.ac.za Sat Jan 5 09:14:16 2008\n",
      "('From stephen.marquard@uct.ac.za Sat Jan 5 09', ':', '14:16 2008')\n",
      "From stephen.marquard at uct.ac.za Sat Jan 5 09:14:16 2008\n",
      "47\n",
      "47\n",
      "                                             From stephen.marquard@uct.ac.za Sat Jan 5 09:14:16 2008\n",
      "('From stephen.marquard@uct.ac.za Sat Jan 5 09:14', ':', '16 2008')\n",
      "['From', 'stephen.marquard@uct.ac.za', 'Sat', 'Jan', '5', '09:14:16', '2008']\n",
      "From stephen.marquard@uct.ac.za Sat Jan 5 09:14:16 \n",
      "['From', 'stephen.marquard@uct.ac.za', 'Sat', 'Jan', '5', '09:14:16', '2008']\n",
      "['From stephen.marquard@uct.ac.za Sat Jan 5 09:14:16 2008']\n",
      "True\n",
      "om stephen.marquard@uct.ac.za Sat Jan 5 09:14:16 2\n",
      "fROM STEPHEN.MARQUARD@UCT.AC.ZA sAT jAN 5 09:14:16 2008\n",
      "From Stephen.Marquard@Uct.Ac.Za Sat Jan 5 09:14:16 2008\n",
      "FROM STEPHEN.MARQUARD@UCT.AC.ZA SAT JAN 5 09:14:16 2008\n",
      "000000000000000000000000000000000000000000000From stephen.marquard@uct.ac.za Sat Jan 5 09:14:16 2008\n"
     ]
    }
   ],
   "source": [
    "# Exercise 6.6 Read the documentation of the string methods at https://docs. \n",
    "# python.org/2/library/stdtypes.html#string-methods. You might want \n",
    "# to experiment with some of them to make sure you understand how they work. \n",
    "# strip and replace are particularly useful.\n",
    "data = 'From stephen.marquard@uct.ac.za Sat Jan 5 09:14:16 2008'\n",
    "print(data)\n",
    "print(data.capitalize())\n",
    "print(data.casefold())\n",
    "print(data.center(100))\n",
    "print(data.count('a'))\n",
    "print(data.encode())\n",
    "print(data.endswith('8'))\n",
    "print(data.expandtabs())\n",
    "print(data.find(':'))\n",
    "print(data.index(':'))\n",
    "print(data.isalnum())\n",
    "print(data.isalpha())\n",
    "print(data.isdecimal())\n",
    "print(data.isdigit())\n",
    "print(data.isidentifier())\n",
    "print(data.islower())\n",
    "print(data.isnumeric())\n",
    "print(data.isprintable())\n",
    "print(data.isspace())\n",
    "print(data.istitle())\n",
    "print(data.isupper())\n",
    "print(data.join('hello'))\n",
    "print(data.ljust(100))\n",
    "print(data.lower())\n",
    "print(data.lstrip('From'))\n",
    "print(data.partition(':'))\n",
    "print(data.replace('@',' at '))\n",
    "print(data.rfind(':'))\n",
    "print(data.rindex(':'))\n",
    "print(data.rjust(100))\n",
    "print(data.rpartition(':'))\n",
    "print(data.rsplit())\n",
    "print(data.rstrip('2008'))\n",
    "print(data.split())\n",
    "print(data.splitlines())\n",
    "print(data.startswith('F'))\n",
    "print(data.strip('Fr80'))\n",
    "print(data.swapcase())\n",
    "print(data.title())\n",
    "print(data.upper())\n",
    "print(data.zfill(100))"
   ]
  }
 ],
 "metadata": {
  "kernelspec": {
   "display_name": "Python 3",
   "language": "python",
   "name": "python3"
  },
  "language_info": {
   "codemirror_mode": {
    "name": "ipython",
    "version": 3
   },
   "file_extension": ".py",
   "mimetype": "text/x-python",
   "name": "python",
   "nbconvert_exporter": "python",
   "pygments_lexer": "ipython3",
   "version": "3.6.0"
  }
 },
 "nbformat": 4,
 "nbformat_minor": 2
}
