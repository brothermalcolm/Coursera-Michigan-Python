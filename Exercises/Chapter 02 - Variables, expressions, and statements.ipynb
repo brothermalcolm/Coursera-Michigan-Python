{
 "cells": [
  {
   "cell_type": "markdown",
   "metadata": {},
   "source": [
    "# Chapter 2 Exercises: Variables, expressions, and statements\n",
    "Click the 'Play' button on the menu bar or press Ctrl-Enter on your keyboard to cycle through the exercises. "
   ]
  },
  {
   "cell_type": "code",
   "execution_count": 1,
   "metadata": {
    "collapsed": false
   },
   "outputs": [
    {
     "data": {
      "text/plain": [
       "6"
      ]
     },
     "execution_count": 1,
     "metadata": {},
     "output_type": "execute_result"
    }
   ],
   "source": [
    "# Exercise 2.1 Type the following statements in the Python interpreter to see what \n",
    "# they do:\n",
    "5 \n",
    "x=5 \n",
    "x+1"
   ]
  },
  {
   "cell_type": "code",
   "execution_count": 2,
   "metadata": {
    "collapsed": false
   },
   "outputs": [
    {
     "name": "stdout",
     "output_type": "stream",
     "text": [
      "Enter your name: Malcolm\n",
      "Hello Malcolm\n"
     ]
    }
   ],
   "source": [
    "# Exercise 2.2: Write a program that uses raw_input to prompt a user for their \n",
    "# name and then welcomes them.\n",
    "name = input('Enter your name: ')\n",
    "print('Hello', name)"
   ]
  },
  {
   "cell_type": "code",
   "execution_count": 4,
   "metadata": {
    "collapsed": false
   },
   "outputs": [
    {
     "name": "stdout",
     "output_type": "stream",
     "text": [
      "Enter Hours: 40\n",
      "Enter Rate: 500\n",
      "Pay:  20000.0\n"
     ]
    }
   ],
   "source": [
    "# Exercise 2.3 Write a program to prompt the user for hours and rate per hour to \n",
    "# compute gross pay.\n",
    "hours = input('Enter Hours: ')\n",
    "rate = input('Enter Rate: ')\n",
    "pay = float(hours)*float(rate)\n",
    "print('Pay: ', round(pay, 2))"
   ]
  },
  {
   "cell_type": "code",
   "execution_count": 7,
   "metadata": {
    "collapsed": false
   },
   "outputs": [
    {
     "name": "stdout",
     "output_type": "stream",
     "text": [
      "8.5 <class 'float'>\n",
      "8.5 <class 'float'>\n",
      "4.0 <class 'float'>\n",
      "11 <class 'int'>\n"
     ]
    }
   ],
   "source": [
    "# Exercise 2.4 Assume that we execute the following assignment statements: \n",
    "# width = 17\n",
    "# height = 12.0\n",
    "# For each of the following expressions, write the value of the expression and the \n",
    "# type (of the value of the expression).\n",
    "width = 17\n",
    "height = 12.0\n",
    "print(width/2, type(width/2))\n",
    "print(width/2.0, type(width/2.0))\n",
    "print(height/3, type(height/3))\n",
    "print(1 + 2 * 5, type(1 + 2 * 5))"
   ]
  },
  {
   "cell_type": "code",
   "execution_count": 18,
   "metadata": {
    "collapsed": false
   },
   "outputs": [
    {
     "name": "stdout",
     "output_type": "stream",
     "text": [
      "Enter temperature in Celsius: 25\n",
      "Temperature in Fahranheit:  77.0\n"
     ]
    }
   ],
   "source": [
    "# Exercise 2.5 Write a program which prompts the user for a Celsius temperature, \n",
    "# convert the temperature to Fahrenheit, and print out the converted temperature.\n",
    "celcius = input('Enter temperature in Celsius: ')\n",
    "fahrenheit = float(celcius) * 9/5 + 32\n",
    "print('Temperature in Fahranheit: ', fahrenheit)"
   ]
  }
 ],
 "metadata": {
  "kernelspec": {
   "display_name": "Python 3",
   "language": "python",
   "name": "python3"
  },
  "language_info": {
   "codemirror_mode": {
    "name": "ipython",
    "version": 3
   },
   "file_extension": ".py",
   "mimetype": "text/x-python",
   "name": "python",
   "nbconvert_exporter": "python",
   "pygments_lexer": "ipython3",
   "version": "3.6.0"
  }
 },
 "nbformat": 4,
 "nbformat_minor": 2
}
