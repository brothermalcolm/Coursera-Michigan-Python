{
 "cells": [
  {
   "cell_type": "markdown",
   "metadata": {},
   "source": [
    "# Chapter 10 Exercises: Tuples\n",
    "Click the 'Play' button on the menu bar or press Ctrl-Enter on your keyboard to cycle through the exercises."
   ]
  },
  {
   "cell_type": "code",
   "execution_count": 1,
   "metadata": {
    "collapsed": false
   },
   "outputs": [
    {
     "name": "stdout",
     "output_type": "stream",
     "text": [
      "(5, 'cwen@iupui.edu')\n"
     ]
    }
   ],
   "source": [
    "# Exercise 10.1 Revise a previous program as follows: Read and parse the “From”\n",
    "# lines and pull out the addresses from the line. Count the number of messages from\n",
    "# each person using a dictionary.\n",
    "# \n",
    "# After all the data has been read, print the person with the most commits by creating\n",
    "# a list of (count, email) tuples from the dictionary. Then sort the list in reverse order\n",
    "# and print out the person who has the most commits.\n",
    "#\n",
    "# Sample Line:\n",
    "# From stephen.marquard@uct.ac.za Sat Jan 5 09:14:16 2008\n",
    "#\n",
    "# Enter a file name: mbox-short.txt\n",
    "# cwen@iupui.edu 5\n",
    "#\n",
    "# Enter a file name: mbox.txt\n",
    "# zqian@umich.edu 195\n",
    "fhand = open('Mbox-Short.txt')\n",
    "addresses = {}\n",
    "for line in fhand:\n",
    "    if line.startswith('From '):\n",
    "        words = line.split()\n",
    "        address = words[1]\n",
    "        addresses[address] = addresses.get(address, 0) + 1\n",
    "t = []\n",
    "for (k, v) in addresses.items():\n",
    "    t.append((v, k))\n",
    "t.sort(reverse=True)\n",
    "print(t[0])\n"
   ]
  },
  {
   "cell_type": "code",
   "execution_count": 2,
   "metadata": {
    "collapsed": false
   },
   "outputs": [
    {
     "name": "stdout",
     "output_type": "stream",
     "text": [
      "04 3\n",
      "06 1\n",
      "07 1\n",
      "09 2\n",
      "10 3\n",
      "11 6\n",
      "14 1\n",
      "15 2\n",
      "16 4\n",
      "17 2\n",
      "18 1\n",
      "19 1\n"
     ]
    }
   ],
   "source": [
    "# Exercise 10.2 This program counts the distribution of the hour of the day for\n",
    "# each of the messages. You can pull the hour from the “From” line by finding the\n",
    "# time string and then splitting that string into parts using the colon character. Once\n",
    "# you have accumulated the counts for each hour, print out the counts, one per line,\n",
    "# sorted by hour as shown below.\n",
    "fhand = open('Mbox-Short.txt')\n",
    "hours = {}\n",
    "for line in fhand:\n",
    "    if line.startswith('From '):\n",
    "        words = line.split()\n",
    "        time = words[-2]\n",
    "        hour = time.split(':')[0]\n",
    "        hours[hour] = hours.get(hour, 0) + 1\n",
    "t = []\n",
    "for (k, v) in hours.items():\n",
    "    t.append((k, v))\n",
    "t.sort()\n",
    "for (k, v) in t:\n",
    "    print(k, v)"
   ]
  },
  {
   "cell_type": "code",
   "execution_count": 3,
   "metadata": {
    "collapsed": false
   },
   "outputs": [
    {
     "name": "stdout",
     "output_type": "stream",
     "text": [
      "e 404033\n",
      "a 355337\n",
      "i 316771\n",
      "o 309157\n",
      "t 302616\n",
      "r 281859\n",
      "s 276247\n",
      "c 238115\n",
      "u 212537\n",
      "n 190902\n",
      "m 178115\n",
      "p 168447\n",
      "d 148380\n",
      "l 144889\n",
      "h 104017\n",
      "k 87160\n",
      "b 85569\n",
      "v 74757\n",
      "f 74252\n",
      "g 68698\n",
      "j 51155\n",
      "y 48157\n",
      "w 46893\n",
      "x 34011\n",
      "q 4087\n",
      "z 3795\n"
     ]
    }
   ],
   "source": [
    "# Exercise 10.3 Write a program that reads a file and prints the letters in decreasing\n",
    "# order of frequency. Your program should convert all the input to lower case and\n",
    "# only count the letters a-z. Your program should not count spaces, digits, punctuation,\n",
    "# or anything other than the letters a-z. Find text samples from several different\n",
    "# languages and see how letter frequency varies between languages. Compare your\n",
    "# results with the tables at wikipedia.org/wiki/Letter_frequencies.\n",
    "fhand = open('Mbox-Short.txt')\n",
    "fhand = open('mbox.txt')\n",
    "#fhand = open('romeo.txt')\n",
    "#fhand = open('Romeo-Full.txt')\n",
    "#fhand = open('tourDuMond80Jours.txt')\n",
    "#fhand = open('prideAndPrejudice.txt')\n",
    "letters = {}\n",
    "for line in fhand:\n",
    "    words = line.rstrip().lower()\n",
    "    for letter in words:\n",
    "        if letter in 'abcdefghijklmnopqrstuvwxyz':\n",
    "            letters[letter] = letters.get(letter, 0) + 1\n",
    "t = []\n",
    "for (k, v) in letters.items():\n",
    "    t.append((v, k))\n",
    "t.sort(reverse=True)\n",
    "for (v, k) in t:\n",
    "    print(k, v)"
   ]
  }
 ],
 "metadata": {
  "kernelspec": {
   "display_name": "Python 3",
   "language": "python",
   "name": "python3"
  },
  "language_info": {
   "codemirror_mode": {
    "name": "ipython",
    "version": 3
   },
   "file_extension": ".py",
   "mimetype": "text/x-python",
   "name": "python",
   "nbconvert_exporter": "python",
   "pygments_lexer": "ipython3",
   "version": "3.6.0"
  }
 },
 "nbformat": 4,
 "nbformat_minor": 2
}
