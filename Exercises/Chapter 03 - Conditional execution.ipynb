{
 "cells": [
  {
   "cell_type": "markdown",
   "metadata": {},
   "source": [
    "# Chapter 3 Exercises: Conditional execution\n",
    "Click the 'Play' button on the menu bar or press Ctrl-Enter on your keyboard to cycle through the exercises. "
   ]
  },
  {
   "cell_type": "code",
   "execution_count": 2,
   "metadata": {
    "collapsed": false
   },
   "outputs": [
    {
     "name": "stdout",
     "output_type": "stream",
     "text": [
      "Enter Hours: 40\n",
      "Enter Rate: 500\n",
      "Pay:  20000.0\n"
     ]
    }
   ],
   "source": [
    "# Exercise 3.1 Rewrite your pay computation to give the employee 1.5 times the\n",
    "# hourly rate for hours worked above 40 hours.\n",
    "hours = float(input('Enter Hours: '))\n",
    "rate = float(input('Enter Rate: '))\n",
    "if hours > 40:\n",
    "    pay = 1.5 * hours * rate\n",
    "else:\n",
    "    pay = hours * rate\n",
    "print('Pay: ', round(pay, 2))"
   ]
  },
  {
   "cell_type": "code",
   "execution_count": 3,
   "metadata": {
    "collapsed": false
   },
   "outputs": [
    {
     "name": "stdout",
     "output_type": "stream",
     "text": [
      "Enter Hours: 40\n",
      "Enter Rate: 500\n",
      "Pay:  20000.0\n"
     ]
    }
   ],
   "source": [
    "# Exercise 3.2 Rewrite your pay program using try and except so that your pro- \n",
    "# gram handles non-numeric input gracefully by printing a message and exiting the \n",
    "# program. The following shows two executions of the program:\n",
    "try:\n",
    "    hours = float(input('Enter Hours: '))\n",
    "    rate = float(input('Enter Rate: '))\n",
    "    if hours > 40:\n",
    "        pay = 1.5 * hours * rate\n",
    "    else:\n",
    "        pay = hours * rate\n",
    "    print('Pay: ', round(pay, 2))\n",
    "except:\n",
    "    print('Error, please enter numeric input')"
   ]
  },
  {
   "cell_type": "code",
   "execution_count": 5,
   "metadata": {
    "collapsed": false
   },
   "outputs": [
    {
     "name": "stdout",
     "output_type": "stream",
     "text": [
      "Enter a score between 0.0 and 1.0: 0.9\n",
      "A\n"
     ]
    }
   ],
   "source": [
    "# Exercise 3.3 Write a program to prompt for a score between 0.0 and 1.0. If the \n",
    "# score is out of range, print an error message. If the score is between 0.0 and 1.0, \n",
    "# print a grade using the following table:\n",
    "try:\n",
    "    score = float(input('Enter a score between 0.0 and 1.0: '))\n",
    "except:\n",
    "    score = -1\n",
    "if score > 1 or score < 0:\n",
    "    print('Bad score')\n",
    "elif score >= 0.9:\n",
    "    print('A')\n",
    "elif score >= 0.8:\n",
    "    print('B')\n",
    "elif score >= 0.7:\n",
    "    print('C')\n",
    "elif score >= 0.6:\n",
    "    print('D')\n",
    "else:\n",
    "    print('F')"
   ]
  }
 ],
 "metadata": {
  "kernelspec": {
   "display_name": "Python 3",
   "language": "python",
   "name": "python3"
  },
  "language_info": {
   "codemirror_mode": {
    "name": "ipython",
    "version": 3
   },
   "file_extension": ".py",
   "mimetype": "text/x-python",
   "name": "python",
   "nbconvert_exporter": "python",
   "pygments_lexer": "ipython3",
   "version": "3.6.0"
  }
 },
 "nbformat": 4,
 "nbformat_minor": 2
}
