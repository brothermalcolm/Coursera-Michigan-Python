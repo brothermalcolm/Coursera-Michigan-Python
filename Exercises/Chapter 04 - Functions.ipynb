{
 "cells": [
  {
   "cell_type": "markdown",
   "metadata": {},
   "source": [
    "# Chapter 4 Exercises: Functions\n",
    "Click the 'Play' button on the menu bar or press Ctrl-Enter on your keyboard to cycle through the exercises. "
   ]
  },
  {
   "cell_type": "code",
   "execution_count": 1,
   "metadata": {
    "collapsed": false
   },
   "outputs": [
    {
     "name": "stdout",
     "output_type": "stream",
     "text": [
      "0.3983312528216275\n",
      "0.8592558430280404\n",
      "0.9054726134779425\n",
      "0.6959913693976774\n",
      "0.790473132194778\n",
      "0.24831525403002974\n",
      "0.3922902401228836\n",
      "0.3733381631421565\n",
      "0.4740890594569507\n",
      "0.37331474963344835\n"
     ]
    }
   ],
   "source": [
    "# Exercise 4.1 Run the program on your system and see what numbers you get. \n",
    "# Run the program more than once and see what numbers you get.\n",
    "import random\n",
    "for i in range(10):\n",
    "    x = random.random() \n",
    "    print(x)"
   ]
  },
  {
   "cell_type": "code",
   "execution_count": 2,
   "metadata": {
    "collapsed": false
   },
   "outputs": [
    {
     "ename": "NameError",
     "evalue": "name 'repeat_lyrics' is not defined",
     "output_type": "error",
     "traceback": [
      "\u001b[0;31m---------------------------------------------------------------------------\u001b[0m",
      "\u001b[0;31mNameError\u001b[0m                                 Traceback (most recent call last)",
      "\u001b[0;32m<ipython-input-2-4241ab5c4567>\u001b[0m in \u001b[0;36m<module>\u001b[0;34m()\u001b[0m\n\u001b[1;32m      2\u001b[0m \u001b[1;31m# appears before the definitions. Run the program and see what error message you\u001b[0m\u001b[1;33m\u001b[0m\u001b[1;33m\u001b[0m\u001b[0m\n\u001b[1;32m      3\u001b[0m \u001b[1;31m# get.\u001b[0m\u001b[1;33m\u001b[0m\u001b[1;33m\u001b[0m\u001b[0m\n\u001b[0;32m----> 4\u001b[0;31m \u001b[0mrepeat_lyrics\u001b[0m\u001b[1;33m(\u001b[0m\u001b[1;33m)\u001b[0m\u001b[1;33m\u001b[0m\u001b[0m\n\u001b[0m\u001b[1;32m      5\u001b[0m \u001b[1;32mdef\u001b[0m \u001b[0mprint_lyrics\u001b[0m\u001b[1;33m(\u001b[0m\u001b[1;33m)\u001b[0m\u001b[1;33m:\u001b[0m\u001b[1;33m\u001b[0m\u001b[0m\n\u001b[1;32m      6\u001b[0m     \u001b[0mprint\u001b[0m\u001b[1;33m(\u001b[0m\u001b[1;34m\"I'm a lumberjack, and I'm okay.\"\u001b[0m\u001b[1;33m)\u001b[0m\u001b[1;33m\u001b[0m\u001b[0m\n",
      "\u001b[0;31mNameError\u001b[0m: name 'repeat_lyrics' is not defined"
     ]
    }
   ],
   "source": [
    "# Exercise 4.2 Move the last line of this program to the top, so the function call \n",
    "# appears before the definitions. Run the program and see what error message you \n",
    "# get.\n",
    "repeat_lyrics()\n",
    "def print_lyrics():\n",
    "    print(\"I'm a lumberjack, and I'm okay.\")\n",
    "    print('I sleep all night and I work all day.')\n",
    "def repeat_lyrics(): \n",
    "    print_lyrics() \n",
    "    print_lyrics()"
   ]
  },
  {
   "cell_type": "code",
   "execution_count": 3,
   "metadata": {
    "collapsed": false
   },
   "outputs": [
    {
     "name": "stdout",
     "output_type": "stream",
     "text": [
      "I'm a lumberjack, and I'm okay.\n",
      "I sleep all night and I work all day.\n",
      "I'm a lumberjack, and I'm okay.\n",
      "I sleep all night and I work all day.\n"
     ]
    }
   ],
   "source": [
    "# Exercise 4.3 Move the function call back to the bottom and move the definition of \n",
    "# print_lyrics after the definition of repeat_lyrics. What happens when you \n",
    "# run this program?\n",
    "def repeat_lyrics(): \n",
    "    print_lyrics() \n",
    "    print_lyrics()\n",
    "def print_lyrics():\n",
    "    print(\"I'm a lumberjack, and I'm okay.\")\n",
    "    print('I sleep all night and I work all day.')\n",
    "repeat_lyrics()"
   ]
  },
  {
   "cell_type": "code",
   "execution_count": 5,
   "metadata": {
    "collapsed": false
   },
   "outputs": [
    {
     "name": "stdout",
     "output_type": "stream",
     "text": [
      "Pay:  20000.0\n"
     ]
    }
   ],
   "source": [
    "# Exercise 4.6 Rewrite your pay computation with time-and-a-half for overtime \n",
    "# and create a function called computepay which takes two parameters (hours and \n",
    "# rate).\n",
    "def computepay(hours, rate):\n",
    "    try:\n",
    "        hours = float(hours)\n",
    "        rate = float(rate)\n",
    "        if hours > 40:\n",
    "            pay = 1.5 * hours * rate\n",
    "        else:\n",
    "            pay = hours * rate\n",
    "        return print('Pay: ', round(pay, 2))\n",
    "    except:\n",
    "        return print('Error, please enter numeric input')\n",
    "computepay(40, 500)"
   ]
  },
  {
   "cell_type": "code",
   "execution_count": 6,
   "metadata": {
    "collapsed": false
   },
   "outputs": [
    {
     "data": {
      "text/plain": [
       "'A'"
      ]
     },
     "execution_count": 6,
     "metadata": {},
     "output_type": "execute_result"
    }
   ],
   "source": [
    "# Exercise 4.7 Rewrite the grade program from the previous chapter using a func- \n",
    "# tion called computegrade that takes a score as its parameter and returns a grade \n",
    "# as a string.\n",
    "def computegrade(score):\n",
    "    try:\n",
    "        score = float(score)\n",
    "    except:\n",
    "        score = -1\n",
    "    if score > 1 or score < 0:\n",
    "        grade ='Bad score'\n",
    "    elif score >= 0.9:\n",
    "        grade ='A'\n",
    "    elif score >= 0.8:\n",
    "        grade ='B'\n",
    "    elif score >= 0.7:\n",
    "        grade ='C'\n",
    "    elif score >= 0.6:\n",
    "        grade ='D'\n",
    "    else:\n",
    "        grade ='F'\n",
    "    return grade\n",
    "computegrade(0.9)"
   ]
  }
 ],
 "metadata": {
  "kernelspec": {
   "display_name": "Python 3",
   "language": "python",
   "name": "python3"
  },
  "language_info": {
   "codemirror_mode": {
    "name": "ipython",
    "version": 3
   },
   "file_extension": ".py",
   "mimetype": "text/x-python",
   "name": "python",
   "nbconvert_exporter": "python",
   "pygments_lexer": "ipython3",
   "version": "3.6.0"
  }
 },
 "nbformat": 4,
 "nbformat_minor": 2
}
