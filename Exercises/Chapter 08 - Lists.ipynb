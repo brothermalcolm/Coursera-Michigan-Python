{
 "cells": [
  {
   "cell_type": "markdown",
   "metadata": {},
   "source": [
    "# Chapter 8 Exercises: Lists\n",
    "Click the 'Play' button on the menu bar or press Ctrl-Enter on your keyboard to cycle through the exercises."
   ]
  },
  {
   "cell_type": "code",
   "execution_count": 2,
   "metadata": {
    "collapsed": false
   },
   "outputs": [
    {
     "name": "stdout",
     "output_type": "stream",
     "text": [
      "['Arise', 'But', 'It', 'Juliet', 'Who', 'already', 'and', 'breaks', 'east', 'envious', 'fair', 'grief', 'is', 'kill', 'light', 'moon', 'pale', 'sick', 'soft', 'sun', 'the', 'through', 'what', 'window', 'with', 'yonder']\n"
     ]
    }
   ],
   "source": [
    "# Exercise 8.4 Download a copy of the file from www.py4inf.com/code/romeo.\n",
    "# txt\n",
    "#\n",
    "# Write a program to open the file romeo.txt and read it line by line. For each line,\n",
    "# split the line into a list of words using the split function.\n",
    "# For each word, check to see if the word is already in a list. If the word is not in the\n",
    "# list, add it to the list.\n",
    "# When the program completes, sort and print the resulting words in alphabetical\n",
    "# order.\n",
    "#\n",
    "# Enter file: romeo.txt\n",
    "# ['Arise', 'But', 'It', 'Juliet', 'Who', 'already',\n",
    "# 'and', 'breaks', 'east', 'envious', 'fair', 'grief',\n",
    "# 'is', 'kill', 'light', 'moon', 'pale', 'sick', 'soft',\n",
    "# 'sun', 'the', 'through', 'what', 'window',\n",
    "# 'with', 'yonder']\n",
    "fhand = open('romeo.txt')\n",
    "wordlist = []\n",
    "for line in fhand:\n",
    "    words = line.rstrip().split()\n",
    "    for word in words:\n",
    "        if word not in wordlist:\n",
    "            wordlist.append(word)\n",
    "wordlist.sort()\n",
    "print(wordlist)"
   ]
  },
  {
   "cell_type": "code",
   "execution_count": 3,
   "metadata": {
    "collapsed": false
   },
   "outputs": [
    {
     "name": "stdout",
     "output_type": "stream",
     "text": [
      "stephen.marquard@uct.ac.za\n",
      "louis@media.berkeley.edu\n",
      "zqian@umich.edu\n",
      "rjlowe@iupui.edu\n",
      "zqian@umich.edu\n",
      "rjlowe@iupui.edu\n",
      "cwen@iupui.edu\n",
      "cwen@iupui.edu\n",
      "gsilver@umich.edu\n",
      "gsilver@umich.edu\n",
      "zqian@umich.edu\n",
      "gsilver@umich.edu\n",
      "wagnermr@iupui.edu\n",
      "zqian@umich.edu\n",
      "antranig@caret.cam.ac.uk\n",
      "gopal.ramasammycook@gmail.com\n",
      "david.horwitz@uct.ac.za\n",
      "david.horwitz@uct.ac.za\n",
      "david.horwitz@uct.ac.za\n",
      "david.horwitz@uct.ac.za\n",
      "stephen.marquard@uct.ac.za\n",
      "louis@media.berkeley.edu\n",
      "louis@media.berkeley.edu\n",
      "ray@media.berkeley.edu\n",
      "cwen@iupui.edu\n",
      "cwen@iupui.edu\n",
      "cwen@iupui.edu\n",
      "There were 27.000000 lines in the file with From as the first word\n"
     ]
    }
   ],
   "source": [
    "# Exercise 8.5 Write a program to read through the mail box data and when you\n",
    "# find line that starts with “From”, you will split the line into words using the split\n",
    "# function. We are interested in who sent the message, which is the second word on\n",
    "# the From line.\n",
    "#\n",
    "# From stephen.marquard@uct.ac.za Sat Jan 5 09:14:16 2008\n",
    "#\n",
    "# You will parse the From line and print out the second word for each From line,\n",
    "# then you will also count the number of From (not From:) lines and print out a\n",
    "# count at the end.\n",
    "#\n",
    "# This is a good sample output with a few lines removed:\n",
    "#\n",
    "# python fromcount.py\n",
    "# Enter a file name: mbox-short.txt\n",
    "# stephen.marquard@uct.ac.za\n",
    "# louis@media.berkeley.edu\n",
    "# zqian@umich.edu\n",
    "# [...some output removed...]\n",
    "# ray@media.berkeley.edu\n",
    "# cwen@iupui.edu\n",
    "# cwen@iupui.edu\n",
    "# cwen@iupui.edu\n",
    "# There were 27 lines in the file with From as the first word\n",
    "\n",
    "fhand = open('Mbox-Short.txt')\n",
    "count = 0\n",
    "for line in fhand:\n",
    "    if line.startswith('From '):\n",
    "        words = line.split()\n",
    "        print(words[1])\n",
    "        count = count + 1        \n",
    "print('There were %f lines in the file with From as the first word' % count)"
   ]
  },
  {
   "cell_type": "code",
   "execution_count": 4,
   "metadata": {
    "collapsed": false
   },
   "outputs": [
    {
     "name": "stdout",
     "output_type": "stream",
     "text": [
      "Enter a number: 55\n",
      "Enter a number: 61\n",
      "Enter a number: 3\n",
      "Enter a number: -94\n",
      "Enter a number: 0.215\n",
      "Enter a number: 05\n",
      "Enter a number: done\n",
      "61.0 -94.0\n"
     ]
    }
   ],
   "source": [
    "# Exercise 8.6 Rewrite the program that prompts the user for a list of numbers and\n",
    "# prints out the maximum and minimum of the numbers at the end when the user\n",
    "# enters “done”. Write the program to store the numbers the user enters in a list\n",
    "# and use the max() and min() functions to compute the maximum and minimum\n",
    "# numbers after the loop completes.\n",
    "#\n",
    "# Enter a number: 6\n",
    "# Enter a number: 2\n",
    "# Enter a number: 9\n",
    "# Enter a number: 3\n",
    "# Enter a number: 5\n",
    "# Enter a number: done\n",
    "# Maximum: 9.0\n",
    "# Minimum: 2.0\n",
    "numlist = []\n",
    "while True:\n",
    "    try:\n",
    "        number = input('Enter a number: ')\n",
    "        if number == 'done':\n",
    "            break\n",
    "        number = float(number)\n",
    "        numlist.append(number)\n",
    "    except:\n",
    "        print('Error, please enter numeric input')\n",
    "print(max(numlist), min(numlist))"
   ]
  }
 ],
 "metadata": {
  "kernelspec": {
   "display_name": "Python 3",
   "language": "python",
   "name": "python3"
  },
  "language_info": {
   "codemirror_mode": {
    "name": "ipython",
    "version": 3
   },
   "file_extension": ".py",
   "mimetype": "text/x-python",
   "name": "python",
   "nbconvert_exporter": "python",
   "pygments_lexer": "ipython3",
   "version": "3.6.0"
  }
 },
 "nbformat": 4,
 "nbformat_minor": 2
}
