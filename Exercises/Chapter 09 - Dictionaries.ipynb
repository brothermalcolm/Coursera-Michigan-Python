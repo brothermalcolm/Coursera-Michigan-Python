{
 "cells": [
  {
   "cell_type": "markdown",
   "metadata": {},
   "source": [
    "# Chapter 9 Exercises: Dictionaries\n",
    "Click the 'Play' button on the menu bar or press Ctrl-Enter on your keyboard to cycle through the exercises."
   ]
  },
  {
   "cell_type": "code",
   "execution_count": 1,
   "metadata": {
    "collapsed": false
   },
   "outputs": [
    {
     "data": {
      "text/plain": [
       "False"
      ]
     },
     "execution_count": 1,
     "metadata": {},
     "output_type": "execute_result"
    }
   ],
   "source": [
    "# Exercise 9.1 Write a program that reads the words in words.txt and stores them\n",
    "# as keys in a dictionary. It doesn’t matter what the values are. Then you can use\n",
    "# the in operator as a fast way to check whether a string is in the dictionary.\n",
    "fhand = open('words.txt')\n",
    "words = {}\n",
    "for word in words:\n",
    "    words[word] = None\n",
    "'writing' in words"
   ]
  },
  {
   "cell_type": "code",
   "execution_count": 2,
   "metadata": {
    "collapsed": false
   },
   "outputs": [
    {
     "name": "stdout",
     "output_type": "stream",
     "text": [
      "{'Sat': 1, 'Fri': 20, 'Thu': 6}\n"
     ]
    }
   ],
   "source": [
    "# Exercise 9.2 Write a program that categorizes each mail message by which day\n",
    "# of the week the commit was done. To do this look for lines that start with “From”,\n",
    "# then look for the third word and keep a running count of each of the days of the\n",
    "# week. At the end of the program print out the contents of your dictionary (order\n",
    "# does not matter).\n",
    "fhand = open('Mbox-Short.txt')\n",
    "days = {}\n",
    "for line in fhand:\n",
    "    if line.startswith('From '):\n",
    "        words = line.split()\n",
    "        day = words[2]\n",
    "        days[day] = days.get(day, 0) + 1\n",
    "print(days)"
   ]
  },
  {
   "cell_type": "code",
   "execution_count": 3,
   "metadata": {
    "collapsed": false
   },
   "outputs": [
    {
     "name": "stdout",
     "output_type": "stream",
     "text": [
      "{'stephen.marquard@uct.ac.za': 2, 'louis@media.berkeley.edu': 3, 'zqian@umich.edu': 4, 'rjlowe@iupui.edu': 2, 'cwen@iupui.edu': 5, 'gsilver@umich.edu': 3, 'wagnermr@iupui.edu': 1, 'antranig@caret.cam.ac.uk': 1, 'gopal.ramasammycook@gmail.com': 1, 'david.horwitz@uct.ac.za': 4, 'ray@media.berkeley.edu': 1}\n"
     ]
    }
   ],
   "source": [
    "# Exercise 9.3 Write a program to read through a mail log, build a histogram using\n",
    "# a dictionary to count how many messages have come from each email address,\n",
    "# and print the dictionary.\n",
    "# Enter file name: mbox-short.txt\n",
    "#\n",
    "# {'gopal.ramasammycook@gmail.com': 1, 'louis@media.berkeley.edu': 3,\n",
    "# 'cwen@iupui.edu': 5, 'antranig@caret.cam.ac.uk': 1,\n",
    "# 'rjlowe@iupui.edu': 2, 'gsilver@umich.edu': 3,\n",
    "# 'david.horwitz@uct.ac.za': 4, 'wagnermr@iupui.edu': 1,\n",
    "# 'zqian@umich.edu': 4, 'stephen.marquard@uct.ac.za': 2,\n",
    "# 'ray@media.berkeley.edu': 1}\n",
    "fhand = open('Mbox-Short.txt')\n",
    "addresses = {}\n",
    "for line in fhand:\n",
    "    if line.startswith('From '):\n",
    "        words = line.split()\n",
    "        address = words[1]\n",
    "        addresses[address] = addresses.get(address, 0) + 1\n",
    "print(addresses)"
   ]
  },
  {
   "cell_type": "code",
   "execution_count": 4,
   "metadata": {
    "collapsed": false
   },
   "outputs": [
    {
     "name": "stdout",
     "output_type": "stream",
     "text": [
      "cwen@iupui.edu 5\n"
     ]
    }
   ],
   "source": [
    "# Exercise 9.4 Add code to the above program to figure out who has the most messages\n",
    "# in the file.\n",
    "#\n",
    "# After all the data has been read and the dictionary has been created, look through\n",
    "# the dictionary using a maximum loop (see Section 5.7.2) to find who has the most\n",
    "# messages and print how many messages the person has.\n",
    "#\n",
    "# Enter a file name: mbox-short.txt\n",
    "# cwen@iupui.edu 5\n",
    "# Enter a file name: mbox.txt\n",
    "# zqian@umich.edu 195\n",
    "fhand = open('Mbox-Short.txt')\n",
    "addresses = {}\n",
    "for line in fhand:\n",
    "    if line.startswith('From '):\n",
    "        words = line.split()\n",
    "        address = words[1]\n",
    "        addresses[address] = addresses.get(address, 0) + 1\n",
    "maxmessages = None\n",
    "maxaddress = None\n",
    "for address, messages in addresses.items():\n",
    "    if maxmessages is None or messages > maxmessages:\n",
    "        maxmessages = messages\n",
    "        maxaddress = address\n",
    "print(maxaddress, maxmessages)"
   ]
  },
  {
   "cell_type": "code",
   "execution_count": 5,
   "metadata": {
    "collapsed": false
   },
   "outputs": [
    {
     "name": "stdout",
     "output_type": "stream",
     "text": [
      "{'uct.ac.za': 6, 'media.berkeley.edu': 4, 'umich.edu': 7, 'iupui.edu': 8, 'caret.cam.ac.uk': 1, 'gmail.com': 1}\n"
     ]
    }
   ],
   "source": [
    "# Exercise 9.5 This program records the domain name (instead of the address)\n",
    "# where the message was sent from instead of who the mail came from (i.e., the\n",
    "# whole email address). At the end of the program, print out the contents of your\n",
    "# dictionary.\n",
    "#\n",
    "# python schoolcount.py\n",
    "# Enter a file name: mbox-short.txt\n",
    "# {'media.berkeley.edu': 4, 'uct.ac.za': 6, 'umich.edu': 7,\n",
    "# 'gmail.com': 1, 'caret.cam.ac.uk': 1, 'iupui.edu': 8}\n",
    "fhand = open('Mbox-Short.txt')\n",
    "addresses = {}\n",
    "for line in fhand:\n",
    "    if line.startswith('From '):\n",
    "        words = line.split()\n",
    "        address = words[1].partition('@')\n",
    "        domain = address[2]\n",
    "        addresses[domain] = addresses.get(domain, 0) + 1\n",
    "print(addresses)"
   ]
  }
 ],
 "metadata": {
  "kernelspec": {
   "display_name": "Python 3",
   "language": "python",
   "name": "python3"
  },
  "language_info": {
   "codemirror_mode": {
    "name": "ipython",
    "version": 3
   },
   "file_extension": ".py",
   "mimetype": "text/x-python",
   "name": "python",
   "nbconvert_exporter": "python",
   "pygments_lexer": "ipython3",
   "version": "3.6.0"
  }
 },
 "nbformat": 4,
 "nbformat_minor": 2
}
