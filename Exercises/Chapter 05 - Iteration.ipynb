{
 "cells": [
  {
   "cell_type": "markdown",
   "metadata": {},
   "source": [
    "# Chapter 5 Exercises: Iteration\n",
    "Click the 'Play' button on the menu bar or press Ctrl-Enter on your keyboard to cycle through the exercises."
   ]
  },
  {
   "cell_type": "code",
   "execution_count": 1,
   "metadata": {
    "collapsed": false
   },
   "outputs": [
    {
     "name": "stdout",
     "output_type": "stream",
     "text": [
      "Enter a number: 52\n",
      "Enter a number: 64\n",
      "Enter a number: 48\n",
      "Enter a number: done\n",
      "164.0 3 54.666666666666664\n"
     ]
    }
   ],
   "source": [
    "# Exercise 5.1 Write a program which repeatedly reads numbers until the user en- \n",
    "# ters “done”. Once “done” is entered, print out the total, count, and average of \n",
    "# the numbers. If the user enters anything other than a number, detect their mistake \n",
    "# using try and except and print an error message and skip to the next number.\n",
    "total = 0\n",
    "count = 0\n",
    "average = 0\n",
    "while True:\n",
    "    try:\n",
    "        number = input('Enter a number: ')\n",
    "        if number == 'done':\n",
    "            break\n",
    "        number = float(number)\n",
    "        total = total + number\n",
    "        count = count + 1\n",
    "        average = total/count\n",
    "    except:\n",
    "        print('Error, please enter numeric input')\n",
    "print(total, count, average)"
   ]
  },
  {
   "cell_type": "code",
   "execution_count": 2,
   "metadata": {
    "collapsed": false
   },
   "outputs": [
    {
     "name": "stdout",
     "output_type": "stream",
     "text": [
      "Enter a number: 354\n",
      "Enter a number: 102\n",
      "Enter a number: sdfa\n",
      "Error, please enter numeric input\n",
      "Enter a number: 0.21\n",
      "Enter a number: -546\n",
      "Enter a number: 784\n",
      "Enter a number: 096\n",
      "Enter a number: done\n",
      "790.21 6 784.0 -546.0\n"
     ]
    }
   ],
   "source": [
    "# Exercise 5.2 Write another program that prompts for a list of numbers as above \n",
    "# and at the end prints out both the maximum and minimum of the numbers instead \n",
    "# of the average.\n",
    "total = 0\n",
    "count = 0\n",
    "maximum = None\n",
    "minimum = None\n",
    "while True:\n",
    "    try:\n",
    "        number = input('Enter a number: ')\n",
    "        if number == 'done':\n",
    "            break\n",
    "        number = float(number)\n",
    "        total = total + number\n",
    "        count = count + 1\n",
    "        if maximum is None or number > maximum:\n",
    "            maximum = number\n",
    "        if minimum is None or number < minimum:\n",
    "            minimum = number\n",
    "    except:\n",
    "        print('Error, please enter numeric input')\n",
    "print(total, count, maximum, minimum)"
   ]
  }
 ],
 "metadata": {
  "kernelspec": {
   "display_name": "Python 3",
   "language": "python",
   "name": "python3"
  },
  "language_info": {
   "codemirror_mode": {
    "name": "ipython",
    "version": 3
   },
   "file_extension": ".py",
   "mimetype": "text/x-python",
   "name": "python",
   "nbconvert_exporter": "python",
   "pygments_lexer": "ipython3",
   "version": "3.6.0"
  }
 },
 "nbformat": 4,
 "nbformat_minor": 2
}
